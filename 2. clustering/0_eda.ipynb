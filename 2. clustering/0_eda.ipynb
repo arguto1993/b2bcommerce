{
 "cells": [
  {
   "cell_type": "code",
   "execution_count": 3,
   "metadata": {},
   "outputs": [],
   "source": [
    "import pandas as pd\n",
    "import matplotlib.pyplot as plt"
   ]
  },
  {
   "cell_type": "markdown",
   "metadata": {},
   "source": [
    "## SELLER"
   ]
  },
  {
   "cell_type": "code",
   "execution_count": 4,
   "metadata": {},
   "outputs": [
    {
     "name": "stdout",
     "output_type": "stream",
     "text": [
      "<class 'pandas.core.frame.DataFrame'>\n",
      "RangeIndex: 86807 entries, 0 to 86806\n",
      "Data columns (total 4 columns):\n",
      " #   Column    Non-Null Count  Dtype \n",
      "---  ------    --------------  ----- \n",
      " 0   uid       86807 non-null  object\n",
      " 1   province  86119 non-null  object\n",
      " 2   city      86119 non-null  object\n",
      " 3   flag      86807 non-null  object\n",
      "dtypes: object(4)\n",
      "memory usage: 2.6+ MB\n"
     ]
    }
   ],
   "source": [
    "dfs = pd.read_csv(\"../__dataset/user_seller.csv\")\n",
    "dfs.info()"
   ]
  },
  {
   "cell_type": "code",
   "execution_count": 5,
   "metadata": {},
   "outputs": [
    {
     "name": "stdout",
     "output_type": "stream",
     "text": [
      "uid         86807\n",
      "province       35\n",
      "city          447\n",
      "flag            1\n",
      "dtype: int64\n"
     ]
    }
   ],
   "source": [
    "dfs_unique = dfs.apply(lambda x: x.nunique())\n",
    "print(dfs_unique)"
   ]
  },
  {
   "cell_type": "code",
   "execution_count": 6,
   "metadata": {},
   "outputs": [
    {
     "data": {
      "text/plain": [
       "uid           0\n",
       "province    688\n",
       "city        688\n",
       "flag          0\n",
       "dtype: int64"
      ]
     },
     "execution_count": 6,
     "metadata": {},
     "output_type": "execute_result"
    }
   ],
   "source": [
    "dfs.isnull().sum()"
   ]
  },
  {
   "cell_type": "code",
   "execution_count": 7,
   "metadata": {},
   "outputs": [
    {
     "data": {
      "text/plain": [
       "province\n",
       "Jakarta                      23228\n",
       "Jawa Barat                   14351\n",
       "Jawa Timur                    9019\n",
       "Jawa Tengah                   6387\n",
       "Banten                        3590\n",
       "Sumatera Utara                3054\n",
       "Sumatera Selatan              2981\n",
       "Sulawesi Selatan              1865\n",
       "D.I. Yogyakarta               1738\n",
       "Kalimantan Tengah             1660\n",
       "Riau                          1581\n",
       "Lampung                       1510\n",
       "Kalimantan Timur              1465\n",
       "Sumatera Barat                1440\n",
       "Bali                          1362\n",
       "Kepulauan Riau                1274\n",
       "D.I. Aceh                     1168\n",
       "Kalimantan Barat              1005\n",
       "Kalimantan Selatan             960\n",
       "Jambi                          936\n",
       "Nusa Tenggara Barat            925\n",
       "Sulawesi Tengah                771\n",
       "Sulawesi Utara                 530\n",
       "Bengkulu                       514\n",
       "Kalimantan Utara               488\n",
       "Kepulauan Bangka Belitung      467\n",
       "Sulawesi Tenggara              421\n",
       "Gorontalo                      255\n",
       "Papua                          253\n",
       "Nusa Tenggara Timur            252\n",
       "Papua Barat                    214\n",
       "Sulawesi Barat                 206\n",
       "Maluku                         152\n",
       "Maluku Utara                    95\n",
       "Papua Selatan                    2\n",
       "Name: count, dtype: int64"
      ]
     },
     "execution_count": 7,
     "metadata": {},
     "output_type": "execute_result"
    }
   ],
   "source": [
    "dfs['province'].value_counts()"
   ]
  },
  {
   "cell_type": "code",
   "execution_count": 8,
   "metadata": {},
   "outputs": [
    {
     "data": {
      "text/plain": [
       "city\n",
       "Jakarta Selatan            14005\n",
       "Jakarta Timur               3032\n",
       "Jakarta Pusat               2670\n",
       "Kota Surabaya               2388\n",
       "Kota Bekasi                 2310\n",
       "                           ...  \n",
       "KAB. KEPULAUAN TANIMBAR        1\n",
       "Kab. Nagekeo                   1\n",
       "Kab. Lembata                   1\n",
       "Kab. Gayo Lues                 1\n",
       "Kab. Mappi                     1\n",
       "Name: count, Length: 447, dtype: int64"
      ]
     },
     "execution_count": 8,
     "metadata": {},
     "output_type": "execute_result"
    }
   ],
   "source": [
    "dfs['city'].value_counts()"
   ]
  },
  {
   "cell_type": "code",
   "execution_count": 9,
   "metadata": {},
   "outputs": [
    {
     "data": {
      "text/plain": [
       "flag\n",
       "Seller    86807\n",
       "Name: count, dtype: int64"
      ]
     },
     "execution_count": 9,
     "metadata": {},
     "output_type": "execute_result"
    }
   ],
   "source": [
    "dfs['flag'].value_counts()"
   ]
  },
  {
   "cell_type": "markdown",
   "metadata": {},
   "source": [
    "## BUYER"
   ]
  },
  {
   "cell_type": "code",
   "execution_count": 10,
   "metadata": {},
   "outputs": [
    {
     "name": "stdout",
     "output_type": "stream",
     "text": [
      "<class 'pandas.core.frame.DataFrame'>\n",
      "RangeIndex: 55416 entries, 0 to 55415\n",
      "Data columns (total 4 columns):\n",
      " #   Column    Non-Null Count  Dtype \n",
      "---  ------    --------------  ----- \n",
      " 0   uid       55416 non-null  object\n",
      " 1   province  55184 non-null  object\n",
      " 2   city      55184 non-null  object\n",
      " 3   flag      55416 non-null  object\n",
      "dtypes: object(4)\n",
      "memory usage: 1.7+ MB\n"
     ]
    }
   ],
   "source": [
    "dfb = pd.read_csv(\"../__dataset/user_buyer.csv\")\n",
    "dfb.info()"
   ]
  },
  {
   "cell_type": "code",
   "execution_count": 11,
   "metadata": {},
   "outputs": [
    {
     "name": "stdout",
     "output_type": "stream",
     "text": [
      "uid         55378\n",
      "province       34\n",
      "city          387\n",
      "flag            1\n",
      "dtype: int64\n"
     ]
    }
   ],
   "source": [
    "dfb_unique = dfb.apply(lambda x: x.nunique())\n",
    "print(dfb_unique)"
   ]
  },
  {
   "cell_type": "code",
   "execution_count": 12,
   "metadata": {},
   "outputs": [
    {
     "data": {
      "text/plain": [
       "uid           0\n",
       "province    232\n",
       "city        232\n",
       "flag          0\n",
       "dtype: int64"
      ]
     },
     "execution_count": 12,
     "metadata": {},
     "output_type": "execute_result"
    }
   ],
   "source": [
    "dfb.isnull().sum()"
   ]
  },
  {
   "cell_type": "code",
   "execution_count": 13,
   "metadata": {},
   "outputs": [
    {
     "data": {
      "text/plain": [
       "province\n",
       "Jakarta                      30072\n",
       "Jawa Barat                    4885\n",
       "Jawa Timur                    4110\n",
       "Jawa Tengah                   2990\n",
       "Sumatera Utara                2317\n",
       "Sumatera Selatan              1211\n",
       "Banten                         931\n",
       "Sulawesi Selatan               774\n",
       "D.I. Yogyakarta                717\n",
       "Lampung                        684\n",
       "Kalimantan Timur               666\n",
       "Riau                           629\n",
       "Bali                           558\n",
       "Sumatera Barat                 434\n",
       "Kalimantan Barat               350\n",
       "Papua                          336\n",
       "Kepulauan Riau                 306\n",
       "Kalimantan Selatan             305\n",
       "Kepulauan Bangka Belitung      301\n",
       "Nusa Tenggara Timur            277\n",
       "Jambi                          274\n",
       "D.I. Aceh                      270\n",
       "Nusa Tenggara Barat            269\n",
       "Sulawesi Utara                 249\n",
       "Sulawesi Tengah                200\n",
       "Kalimantan Tengah              197\n",
       "Maluku                         165\n",
       "Papua Barat                    158\n",
       "Sulawesi Tenggara              149\n",
       "Bengkulu                       118\n",
       "Kalimantan Utara               113\n",
       "Maluku Utara                    73\n",
       "Gorontalo                       61\n",
       "Sulawesi Barat                  35\n",
       "Name: count, dtype: int64"
      ]
     },
     "execution_count": 13,
     "metadata": {},
     "output_type": "execute_result"
    }
   ],
   "source": [
    "dfb['province'].value_counts()"
   ]
  },
  {
   "cell_type": "code",
   "execution_count": 14,
   "metadata": {},
   "outputs": [
    {
     "data": {
      "text/plain": [
       "city\n",
       "Jakarta Pusat                24719\n",
       "Jakarta Selatan               2974\n",
       "Kota Bandung                  2640\n",
       "Kota Surabaya                 1667\n",
       "Jakarta Timur                 1404\n",
       "                             ...  \n",
       "Kab. Bima                        2\n",
       "Kab. Pegunungan Bintang          2\n",
       "Kab. Murung Raya                 2\n",
       "Kab. Tanjung Jabung Timur        2\n",
       "Kota Sawahlunto                  2\n",
       "Name: count, Length: 387, dtype: int64"
      ]
     },
     "execution_count": 14,
     "metadata": {},
     "output_type": "execute_result"
    }
   ],
   "source": [
    "dfb['city'].value_counts()"
   ]
  },
  {
   "cell_type": "code",
   "execution_count": 15,
   "metadata": {},
   "outputs": [
    {
     "data": {
      "text/plain": [
       "flag\n",
       "Buyer    55416\n",
       "Name: count, dtype: int64"
      ]
     },
     "execution_count": 15,
     "metadata": {},
     "output_type": "execute_result"
    }
   ],
   "source": [
    "dfb['flag'].value_counts()"
   ]
  },
  {
   "cell_type": "markdown",
   "metadata": {},
   "source": [
    "## PRODUCT"
   ]
  },
  {
   "cell_type": "code",
   "execution_count": 16,
   "metadata": {},
   "outputs": [
    {
     "name": "stdout",
     "output_type": "stream",
     "text": [
      "<class 'pandas.core.frame.DataFrame'>\n",
      "RangeIndex: 182041 entries, 0 to 182040\n",
      "Data columns (total 11 columns):\n",
      " #   Column          Non-Null Count   Dtype  \n",
      "---  ------          --------------   -----  \n",
      " 0   product_id      182040 non-null  object \n",
      " 1   product_name    182040 non-null  object \n",
      " 2   main_cat        182025 non-null  object \n",
      " 3   sub_cat1        157914 non-null  object \n",
      " 4   sub_cat2        121791 non-null  object \n",
      " 5   brand           82706 non-null   object \n",
      " 6   rating          182040 non-null  float64\n",
      " 7   price_per_item  182040 non-null  float64\n",
      " 8   weight          182040 non-null  float64\n",
      " 9   weight_unit     182040 non-null  object \n",
      " 10  unit            182040 non-null  object \n",
      "dtypes: float64(3), object(8)\n",
      "memory usage: 15.3+ MB\n"
     ]
    }
   ],
   "source": [
    "dfp = pd.read_csv(\"../__dataset/product.csv\")\n",
    "dfp.info()"
   ]
  },
  {
   "cell_type": "code",
   "execution_count": 17,
   "metadata": {},
   "outputs": [
    {
     "name": "stdout",
     "output_type": "stream",
     "text": [
      "product_id        182040\n",
      "product_name      163547\n",
      "main_cat              50\n",
      "sub_cat1             384\n",
      "sub_cat2            1185\n",
      "brand              25662\n",
      "rating               101\n",
      "price_per_item     30710\n",
      "weight              1620\n",
      "weight_unit            2\n",
      "unit                 704\n",
      "dtype: int64\n"
     ]
    }
   ],
   "source": [
    "dfp_unique = dfp.apply(lambda x: x.nunique())\n",
    "print(dfp_unique)"
   ]
  },
  {
   "cell_type": "code",
   "execution_count": 18,
   "metadata": {},
   "outputs": [
    {
     "data": {
      "text/plain": [
       "product_id            1\n",
       "product_name          1\n",
       "main_cat             16\n",
       "sub_cat1          24127\n",
       "sub_cat2          60250\n",
       "brand             99335\n",
       "rating                1\n",
       "price_per_item        1\n",
       "weight                1\n",
       "weight_unit           1\n",
       "unit                  1\n",
       "dtype: int64"
      ]
     },
     "execution_count": 18,
     "metadata": {},
     "output_type": "execute_result"
    }
   ],
   "source": [
    "dfp.isnull().sum()"
   ]
  },
  {
   "cell_type": "code",
   "execution_count": 19,
   "metadata": {},
   "outputs": [
    {
     "data": {
      "text/plain": [
       "main_cat\n",
       "Office & Stationery                   43945\n",
       "Pertukangan                           34252\n",
       "Elektronik                            16426\n",
       "Barang Lainnya                        15537\n",
       "Makanan & Minuman                     13050\n",
       "Komputer & Laptop                      9266\n",
       "Souvenir & Merchandise                 8322\n",
       "Jasa Perawatan Peralatan & Mesin       4618\n",
       "Rumah Tangga                           4501\n",
       "Jasa Percetakan & Media                3512\n",
       "Jasa Event Organizer                   3420\n",
       "Kesehatan                              3244\n",
       "Jasa Travel & Akomodasi                2674\n",
       "Jasa Konstruksi & Renovasi             2061\n",
       "Pengadaan & Sewa Kendaraan             1524\n",
       "Pengadaan Peralatan-Mesin              1500\n",
       "Bahan Kimia                            1343\n",
       "Jasa Advertising                       1320\n",
       "Jasa Perawatan Elektronik & IT         1157\n",
       "Jasa Perawatan Gedung                  1025\n",
       "Jasa Mandor & Tenaga Kerja Lainnya     1016\n",
       "Dapur                                   958\n",
       "Pertanian & Peternakan                  939\n",
       "Jasa Perawatan Kendaraan                802\n",
       "Jasa Ekspedisi & Pengepakan             676\n",
       "Perawatan Tubuh                         664\n",
       "Fashion                                 589\n",
       "Konveksi & Laundry                      556\n",
       "Handphone & Tablet                      543\n",
       "Otomotif                                415\n",
       "Pendidikan dan Pelatihan                381\n",
       "Buku                                    326\n",
       "Fashion Pria                            308\n",
       "Olahraga                                228\n",
       "Fashion Wanita                          195\n",
       "Kamera                                  187\n",
       "Jasa Konsultan & Penilaian              124\n",
       "Perlengkapan Pesta & Craft               97\n",
       "Tour & Travel                            92\n",
       "Fashion Muslim                           65\n",
       "Kecantikan                               36\n",
       "Sewa Gedung                              29\n",
       "Film & Musik                             21\n",
       "Properti                                 18\n",
       "Ibu & Bayi                               17\n",
       "Gaming                                   16\n",
       "Mainan & Hobi                            13\n",
       "Wedding                                  10\n",
       "Jasa Lainnya                              5\n",
       "Fashion Anak & Bayi                       2\n",
       "Name: count, dtype: int64"
      ]
     },
     "execution_count": 19,
     "metadata": {},
     "output_type": "execute_result"
    }
   ],
   "source": [
    "dfp['main_cat'].value_counts()"
   ]
  },
  {
   "cell_type": "code",
   "execution_count": 20,
   "metadata": {},
   "outputs": [
    {
     "data": {
      "text/plain": [
       "weight_unit\n",
       "gram    150196\n",
       "kg       31844\n",
       "Name: count, dtype: int64"
      ]
     },
     "execution_count": 20,
     "metadata": {},
     "output_type": "execute_result"
    }
   ],
   "source": [
    "dfp['weight_unit'].value_counts()"
   ]
  },
  {
   "cell_type": "code",
   "execution_count": 21,
   "metadata": {},
   "outputs": [
    {
     "data": {
      "text/html": [
       "<div>\n",
       "<style scoped>\n",
       "    .dataframe tbody tr th:only-of-type {\n",
       "        vertical-align: middle;\n",
       "    }\n",
       "\n",
       "    .dataframe tbody tr th {\n",
       "        vertical-align: top;\n",
       "    }\n",
       "\n",
       "    .dataframe thead th {\n",
       "        text-align: right;\n",
       "    }\n",
       "</style>\n",
       "<table border=\"1\" class=\"dataframe\">\n",
       "  <thead>\n",
       "    <tr style=\"text-align: right;\">\n",
       "      <th></th>\n",
       "      <th>rating</th>\n",
       "      <th>price_per_item</th>\n",
       "      <th>weight</th>\n",
       "    </tr>\n",
       "  </thead>\n",
       "  <tbody>\n",
       "    <tr>\n",
       "      <th>count</th>\n",
       "      <td>182040.000000</td>\n",
       "      <td>1.820400e+05</td>\n",
       "      <td>1.820400e+05</td>\n",
       "    </tr>\n",
       "    <tr>\n",
       "      <th>mean</th>\n",
       "      <td>0.588211</td>\n",
       "      <td>7.406403e+06</td>\n",
       "      <td>3.284482e+04</td>\n",
       "    </tr>\n",
       "    <tr>\n",
       "      <th>std</th>\n",
       "      <td>1.594662</td>\n",
       "      <td>4.650195e+07</td>\n",
       "      <td>1.644843e+06</td>\n",
       "    </tr>\n",
       "    <tr>\n",
       "      <th>min</th>\n",
       "      <td>0.000000</td>\n",
       "      <td>1.000000e+00</td>\n",
       "      <td>0.000000e+00</td>\n",
       "    </tr>\n",
       "    <tr>\n",
       "      <th>25%</th>\n",
       "      <td>0.000000</td>\n",
       "      <td>3.000000e+04</td>\n",
       "      <td>1.000000e+02</td>\n",
       "    </tr>\n",
       "    <tr>\n",
       "      <th>50%</th>\n",
       "      <td>0.000000</td>\n",
       "      <td>1.560000e+05</td>\n",
       "      <td>5.000000e+02</td>\n",
       "    </tr>\n",
       "    <tr>\n",
       "      <th>75%</th>\n",
       "      <td>0.000000</td>\n",
       "      <td>1.550000e+06</td>\n",
       "      <td>1.000000e+03</td>\n",
       "    </tr>\n",
       "    <tr>\n",
       "      <th>max</th>\n",
       "      <td>5.000000</td>\n",
       "      <td>2.147480e+09</td>\n",
       "      <td>5.000000e+08</td>\n",
       "    </tr>\n",
       "  </tbody>\n",
       "</table>\n",
       "</div>"
      ],
      "text/plain": [
       "              rating  price_per_item        weight\n",
       "count  182040.000000    1.820400e+05  1.820400e+05\n",
       "mean        0.588211    7.406403e+06  3.284482e+04\n",
       "std         1.594662    4.650195e+07  1.644843e+06\n",
       "min         0.000000    1.000000e+00  0.000000e+00\n",
       "25%         0.000000    3.000000e+04  1.000000e+02\n",
       "50%         0.000000    1.560000e+05  5.000000e+02\n",
       "75%         0.000000    1.550000e+06  1.000000e+03\n",
       "max         5.000000    2.147480e+09  5.000000e+08"
      ]
     },
     "execution_count": 21,
     "metadata": {},
     "output_type": "execute_result"
    }
   ],
   "source": [
    "dfp.describe()"
   ]
  },
  {
   "cell_type": "code",
   "execution_count": 22,
   "metadata": {},
   "outputs": [
    {
     "data": {
      "text/plain": [
       "21909"
      ]
     },
     "execution_count": 22,
     "metadata": {},
     "output_type": "execute_result"
    }
   ],
   "source": [
    "dfp[(dfp['rating'] != 0) & (dfp['rating'].notnull())]['rating'].count()"
   ]
  },
  {
   "cell_type": "markdown",
   "metadata": {},
   "source": [
    "## ORDER/TRANSACTION"
   ]
  },
  {
   "cell_type": "code",
   "execution_count": 23,
   "metadata": {},
   "outputs": [
    {
     "name": "stderr",
     "output_type": "stream",
     "text": [
      "C:\\Users\\stamp\\AppData\\Local\\Temp\\ipykernel_6116\\572827259.py:1: DtypeWarning: Columns (10) have mixed types. Specify dtype option on import or set low_memory=False.\n",
      "  dfo = pd.read_csv(\"../__dataset/order.csv\")\n"
     ]
    },
    {
     "name": "stdout",
     "output_type": "stream",
     "text": [
      "<class 'pandas.core.frame.DataFrame'>\n",
      "RangeIndex: 159133 entries, 0 to 159132\n",
      "Data columns (total 15 columns):\n",
      " #   Column               Non-Null Count   Dtype  \n",
      "---  ------               --------------   -----  \n",
      " 0   po_number            159133 non-null  object \n",
      " 1   transaction_date     159133 non-null  object \n",
      " 2   order_address_id     159133 non-null  int64  \n",
      " 3   order_status         159133 non-null  object \n",
      " 4   payment_group        159133 non-null  object \n",
      " 5   payment_method       159133 non-null  object \n",
      " 6   shipping_agency      159133 non-null  object \n",
      " 7   shipping_cost        159133 non-null  int64  \n",
      " 8   total_project_value  159133 non-null  int64  \n",
      " 9   voucher_val          68399 non-null   float64\n",
      " 10  voucher_code         5160 non-null    object \n",
      " 11  revenue              159133 non-null  int64  \n",
      " 12  seller_id            159127 non-null  object \n",
      " 13  seller_category      159127 non-null  object \n",
      " 14  buyer_id             159133 non-null  object \n",
      "dtypes: float64(1), int64(4), object(10)\n",
      "memory usage: 18.2+ MB\n"
     ]
    }
   ],
   "source": [
    "dfo = pd.read_csv(\"../__dataset/order.csv\")\n",
    "dfo.info()\n"
   ]
  },
  {
   "cell_type": "code",
   "execution_count": 24,
   "metadata": {},
   "outputs": [
    {
     "name": "stdout",
     "output_type": "stream",
     "text": [
      "po_number              159114\n",
      "transaction_date          365\n",
      "order_address_id       159112\n",
      "order_status               22\n",
      "payment_group               2\n",
      "payment_method             19\n",
      "shipping_agency            13\n",
      "shipping_cost            1923\n",
      "total_project_value     59101\n",
      "voucher_val               250\n",
      "voucher_code              147\n",
      "revenue                 49376\n",
      "seller_id                6661\n",
      "seller_category             5\n",
      "buyer_id                12810\n",
      "dtype: int64\n"
     ]
    }
   ],
   "source": [
    "dfo_unique = dfo.apply(lambda x: x.nunique())\n",
    "print(dfo_unique)"
   ]
  },
  {
   "cell_type": "code",
   "execution_count": 25,
   "metadata": {},
   "outputs": [
    {
     "name": "stdout",
     "output_type": "stream",
     "text": [
      "[nan '631a50645b9755003d24d6b9' '631a50655b9755003d24d78a' ...\n",
      " '63aa70cbcb47446d5bdef77a' '63aa720fcb47446d5bdf1413'\n",
      " '63aa832bcb47446d5be0c3dd']\n"
     ]
    }
   ],
   "source": [
    "# Inspect unique values in the 'seller_id' column\n",
    "unique_values = dfo['seller_id'].unique()\n",
    "print(unique_values)"
   ]
  },
  {
   "cell_type": "code",
   "execution_count": 26,
   "metadata": {},
   "outputs": [
    {
     "data": {
      "text/plain": [
       "po_number                   0\n",
       "transaction_date            0\n",
       "order_address_id            0\n",
       "order_status                0\n",
       "payment_group               0\n",
       "payment_method              0\n",
       "shipping_agency             0\n",
       "shipping_cost               0\n",
       "total_project_value         0\n",
       "voucher_val             90734\n",
       "voucher_code           153973\n",
       "revenue                     0\n",
       "seller_id                   6\n",
       "seller_category             6\n",
       "buyer_id                    0\n",
       "dtype: int64"
      ]
     },
     "execution_count": 26,
     "metadata": {},
     "output_type": "execute_result"
    }
   ],
   "source": [
    "dfo.isnull().sum()"
   ]
  },
  {
   "cell_type": "code",
   "execution_count": 27,
   "metadata": {},
   "outputs": [
    {
     "data": {
      "image/png": "[encoded data removed]",
      "text/plain": [
       "<Figure size 640x480 with 1 Axes>"
      ]
     },
     "metadata": {},
     "output_type": "display_data"
    }
   ],
   "source": [
    "dfo['is_voucher_used'] = dfo['voucher_code'].notna()\n",
    "\n",
    "# Filter the DataFrame for orders with 'order_status' == \"Selesai\"\n",
    "dfo_selesai = dfo[dfo['order_status'] == \"Selesai\"]\n",
    "\n",
    "# Get value counts for the filtered DataFrame\n",
    "voucher_usage_counts = dfo_selesai['is_voucher_used'].value_counts()\n",
    "\n",
    "# Set up labels and normalize values for percentages\n",
    "labels = voucher_usage_counts.index.astype(str).to_list()\n",
    "sizes = voucher_usage_counts.values / voucher_usage_counts.values.sum() * 100\n",
    "\n",
    "# Helper function to format the labels\n",
    "def format_label(pct, counts):\n",
    "    absolute = int(pct / 100 * counts.sum())\n",
    "    return \"{:.1f}%\\n({:,d})\".format(pct, absolute) \n",
    "\n",
    "# Create the doughnut chart\n",
    "fig, ax = plt.subplots()\n",
    "wedges, texts, autotexts = ax.pie(sizes, labels=labels, startangle=50, \n",
    "                                  wedgeprops={'edgecolor': 'white'}, \n",
    "                                  pctdistance=1.25, labeldistance=1.45,\n",
    "                                  autopct=lambda pct: format_label(pct, voucher_usage_counts))\n",
    "\n",
    "centre_circle = plt.Circle((0,0),0.50,fc='white')\n",
    "fig = plt.gcf()\n",
    "fig.gca().add_artist(centre_circle)\n",
    "\n",
    "ax.axis('equal')  \n",
    "plt.title('Voucher Usage Distribution')\n",
    "plt.show()\n",
    "\n"
   ]
  },
  {
   "cell_type": "markdown",
   "metadata": {},
   "source": [
    "## ORDER DETAIL"
   ]
  },
  {
   "cell_type": "code",
   "execution_count": 28,
   "metadata": {},
   "outputs": [
    {
     "data": {
      "text/html": [
       "<div>\n",
       "<style scoped>\n",
       "    .dataframe tbody tr th:only-of-type {\n",
       "        vertical-align: middle;\n",
       "    }\n",
       "\n",
       "    .dataframe tbody tr th {\n",
       "        vertical-align: top;\n",
       "    }\n",
       "\n",
       "    .dataframe thead th {\n",
       "        text-align: right;\n",
       "    }\n",
       "</style>\n",
       "<table border=\"1\" class=\"dataframe\">\n",
       "  <thead>\n",
       "    <tr style=\"text-align: right;\">\n",
       "      <th></th>\n",
       "      <th>order_address_id</th>\n",
       "      <th>product_id</th>\n",
       "      <th>quantity</th>\n",
       "      <th>price_total</th>\n",
       "      <th>weight_total</th>\n",
       "      <th>free_shipping</th>\n",
       "      <th>ppn</th>\n",
       "      <th>pph_id</th>\n",
       "      <th>unit</th>\n",
       "      <th>weight_unit</th>\n",
       "    </tr>\n",
       "  </thead>\n",
       "  <tbody>\n",
       "    <tr>\n",
       "      <th>0</th>\n",
       "      <td>115162</td>\n",
       "      <td>631b295c86073948b5b48771</td>\n",
       "      <td>0</td>\n",
       "      <td>0</td>\n",
       "      <td>0</td>\n",
       "      <td>False</td>\n",
       "      <td>0</td>\n",
       "      <td>pph22</td>\n",
       "      <td>pcs</td>\n",
       "      <td>gram</td>\n",
       "    </tr>\n",
       "    <tr>\n",
       "      <th>1</th>\n",
       "      <td>334676</td>\n",
       "      <td>631b5e603fe61f0c55fdd110</td>\n",
       "      <td>0</td>\n",
       "      <td>0</td>\n",
       "      <td>0</td>\n",
       "      <td>False</td>\n",
       "      <td>0</td>\n",
       "      <td>pph22</td>\n",
       "      <td>pcs</td>\n",
       "      <td>gram</td>\n",
       "    </tr>\n",
       "    <tr>\n",
       "      <th>2</th>\n",
       "      <td>267490</td>\n",
       "      <td>631b609b11f5e2561e82a639</td>\n",
       "      <td>0</td>\n",
       "      <td>0</td>\n",
       "      <td>0</td>\n",
       "      <td>False</td>\n",
       "      <td>0</td>\n",
       "      <td>pph22</td>\n",
       "      <td>tbg</td>\n",
       "      <td>gram</td>\n",
       "    </tr>\n",
       "    <tr>\n",
       "      <th>3</th>\n",
       "      <td>452502</td>\n",
       "      <td>631acad8cdc00cf233d67ef6</td>\n",
       "      <td>0</td>\n",
       "      <td>0</td>\n",
       "      <td>0</td>\n",
       "      <td>False</td>\n",
       "      <td>0</td>\n",
       "      <td>pph22</td>\n",
       "      <td>box</td>\n",
       "      <td>gram</td>\n",
       "    </tr>\n",
       "    <tr>\n",
       "      <th>4</th>\n",
       "      <td>452502</td>\n",
       "      <td>631acad7cdc00cf233d67aad</td>\n",
       "      <td>0</td>\n",
       "      <td>0</td>\n",
       "      <td>0</td>\n",
       "      <td>False</td>\n",
       "      <td>0</td>\n",
       "      <td>pph22</td>\n",
       "      <td>lainnya</td>\n",
       "      <td>gram</td>\n",
       "    </tr>\n",
       "    <tr>\n",
       "      <th>...</th>\n",
       "      <td>...</td>\n",
       "      <td>...</td>\n",
       "      <td>...</td>\n",
       "      <td>...</td>\n",
       "      <td>...</td>\n",
       "      <td>...</td>\n",
       "      <td>...</td>\n",
       "      <td>...</td>\n",
       "      <td>...</td>\n",
       "      <td>...</td>\n",
       "    </tr>\n",
       "    <tr>\n",
       "      <th>474263</th>\n",
       "      <td>240604</td>\n",
       "      <td>631d2e4d4c82aa37b3290e54</td>\n",
       "      <td>767</td>\n",
       "      <td>16874000</td>\n",
       "      <td>767000</td>\n",
       "      <td>True</td>\n",
       "      <td>1856140</td>\n",
       "      <td>pph22</td>\n",
       "      <td>kg</td>\n",
       "      <td>gram</td>\n",
       "    </tr>\n",
       "    <tr>\n",
       "      <th>474264</th>\n",
       "      <td>419353</td>\n",
       "      <td>631d2e1a4c82aa37b328f95f</td>\n",
       "      <td>767</td>\n",
       "      <td>9204000</td>\n",
       "      <td>230100</td>\n",
       "      <td>True</td>\n",
       "      <td>1012440</td>\n",
       "      <td>pph22</td>\n",
       "      <td>kaleng</td>\n",
       "      <td>gram</td>\n",
       "    </tr>\n",
       "    <tr>\n",
       "      <th>474265</th>\n",
       "      <td>474434</td>\n",
       "      <td>631d2e1a4c82aa37b328f955</td>\n",
       "      <td>3839</td>\n",
       "      <td>6910200</td>\n",
       "      <td>191950</td>\n",
       "      <td>True</td>\n",
       "      <td>0</td>\n",
       "      <td>pph22</td>\n",
       "      <td>btr</td>\n",
       "      <td>gram</td>\n",
       "    </tr>\n",
       "    <tr>\n",
       "      <th>474266</th>\n",
       "      <td>413289</td>\n",
       "      <td>631b519e11f5e2561e818233</td>\n",
       "      <td>4095</td>\n",
       "      <td>3890250</td>\n",
       "      <td>4095000</td>\n",
       "      <td>True</td>\n",
       "      <td>427927</td>\n",
       "      <td>pph22</td>\n",
       "      <td>pcs</td>\n",
       "      <td>gram</td>\n",
       "    </tr>\n",
       "    <tr>\n",
       "      <th>474267</th>\n",
       "      <td>413946</td>\n",
       "      <td>631d9bb4459015fcda73853e</td>\n",
       "      <td>4351</td>\n",
       "      <td>7396700</td>\n",
       "      <td>4351000</td>\n",
       "      <td>True</td>\n",
       "      <td>813637</td>\n",
       "      <td>pph22</td>\n",
       "      <td>pcs</td>\n",
       "      <td>gram</td>\n",
       "    </tr>\n",
       "  </tbody>\n",
       "</table>\n",
       "<p>474268 rows × 10 columns</p>\n",
       "</div>"
      ],
      "text/plain": [
       "        order_address_id                product_id  quantity  price_total  \\\n",
       "0                 115162  631b295c86073948b5b48771         0            0   \n",
       "1                 334676  631b5e603fe61f0c55fdd110         0            0   \n",
       "2                 267490  631b609b11f5e2561e82a639         0            0   \n",
       "3                 452502  631acad8cdc00cf233d67ef6         0            0   \n",
       "4                 452502  631acad7cdc00cf233d67aad         0            0   \n",
       "...                  ...                       ...       ...          ...   \n",
       "474263            240604  631d2e4d4c82aa37b3290e54       767     16874000   \n",
       "474264            419353  631d2e1a4c82aa37b328f95f       767      9204000   \n",
       "474265            474434  631d2e1a4c82aa37b328f955      3839      6910200   \n",
       "474266            413289  631b519e11f5e2561e818233      4095      3890250   \n",
       "474267            413946  631d9bb4459015fcda73853e      4351      7396700   \n",
       "\n",
       "        weight_total  free_shipping      ppn pph_id     unit weight_unit  \n",
       "0                  0          False        0  pph22      pcs        gram  \n",
       "1                  0          False        0  pph22      pcs        gram  \n",
       "2                  0          False        0  pph22      tbg        gram  \n",
       "3                  0          False        0  pph22      box        gram  \n",
       "4                  0          False        0  pph22  lainnya        gram  \n",
       "...              ...            ...      ...    ...      ...         ...  \n",
       "474263        767000           True  1856140  pph22       kg        gram  \n",
       "474264        230100           True  1012440  pph22   kaleng        gram  \n",
       "474265        191950           True        0  pph22      btr        gram  \n",
       "474266       4095000           True   427927  pph22      pcs        gram  \n",
       "474267       4351000           True   813637  pph22      pcs        gram  \n",
       "\n",
       "[474268 rows x 10 columns]"
      ]
     },
     "execution_count": 28,
     "metadata": {},
     "output_type": "execute_result"
    }
   ],
   "source": [
    "dfod = pd.read_csv(\"../__dataset/order_details.csv\")\n",
    "dfod"
   ]
  },
  {
   "cell_type": "code",
   "execution_count": 29,
   "metadata": {},
   "outputs": [
    {
     "name": "stdout",
     "output_type": "stream",
     "text": [
      "po_number              159114\n",
      "transaction_date          365\n",
      "order_address_id       159112\n",
      "order_status               22\n",
      "payment_group               2\n",
      "payment_method             19\n",
      "shipping_agency            13\n",
      "shipping_cost            1923\n",
      "total_project_value     59101\n",
      "voucher_val               250\n",
      "voucher_code              147\n",
      "revenue                 49376\n",
      "seller_id                6661\n",
      "seller_category             5\n",
      "buyer_id                12810\n",
      "is_voucher_used             2\n",
      "dtype: int64\n"
     ]
    }
   ],
   "source": [
    "dfod_unique = dfo.apply(lambda x: x.nunique())\n",
    "print(dfod_unique)"
   ]
  },
  {
   "cell_type": "code",
   "execution_count": 30,
   "metadata": {},
   "outputs": [
    {
     "data": {
      "text/plain": [
       "order_address_id        0\n",
       "product_id              0\n",
       "quantity                0\n",
       "price_total             0\n",
       "weight_total            0\n",
       "free_shipping           0\n",
       "ppn                     0\n",
       "pph_id              80953\n",
       "unit                   69\n",
       "weight_unit             0\n",
       "dtype: int64"
      ]
     },
     "execution_count": 30,
     "metadata": {},
     "output_type": "execute_result"
    }
   ],
   "source": [
    "dfod.isnull().sum()"
   ]
  }
 ],
 "metadata": {
  "kernelspec": {
   "display_name": "Python 3",
   "language": "python",
   "name": "python3"
  },
  "language_info": {
   "codemirror_mode": {
    "name": "ipython",
    "version": 3
   },
   "file_extension": ".py",
   "mimetype": "text/x-python",
   "name": "python",
   "nbconvert_exporter": "python",
   "pygments_lexer": "ipython3",
   "version": "3.12.3"
  }
 },
 "nbformat": 4,
 "nbformat_minor": 2
}
